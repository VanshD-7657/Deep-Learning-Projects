{
 "cells": [
  {
   "cell_type": "markdown",
   "metadata": {},
   "source": [
    "# Detection of Fake News via Classification MODEL"
   ]
  },
  {
   "cell_type": "markdown",
   "metadata": {},
   "source": [
    "## 1.Load and check the Dataset"
   ]
  },
  {
   "cell_type": "code",
   "execution_count": 11,
   "metadata": {
    "execution": {
     "iopub.execute_input": "2025-08-05T09:47:40.906748Z",
     "iopub.status.busy": "2025-08-05T09:47:40.906436Z",
     "iopub.status.idle": "2025-08-05T09:48:01.123422Z",
     "shell.execute_reply": "2025-08-05T09:48:01.122686Z",
     "shell.execute_reply.started": "2025-08-05T09:47:40.906724Z"
    },
    "trusted": true
   },
   "outputs": [],
   "source": [
    "import pandas as pd\n",
    "import numpy as np\n",
    "import tensorflow as tf\n",
    "from sklearn.model_selection import train_test_split"
   ]
  },
  {
   "cell_type": "code",
   "execution_count": 12,
   "metadata": {
    "execution": {
     "iopub.execute_input": "2025-08-05T09:48:01.125828Z",
     "iopub.status.busy": "2025-08-05T09:48:01.124999Z",
     "iopub.status.idle": "2025-08-05T09:48:03.071470Z",
     "shell.execute_reply": "2025-08-05T09:48:03.070720Z",
     "shell.execute_reply.started": "2025-08-05T09:48:01.125805Z"
    },
    "trusted": true
   },
   "outputs": [
    {
     "data": {
      "text/html": [
       "<div>\n",
       "<style scoped>\n",
       "    .dataframe tbody tr th:only-of-type {\n",
       "        vertical-align: middle;\n",
       "    }\n",
       "\n",
       "    .dataframe tbody tr th {\n",
       "        vertical-align: top;\n",
       "    }\n",
       "\n",
       "    .dataframe thead th {\n",
       "        text-align: right;\n",
       "    }\n",
       "</style>\n",
       "<table border=\"1\" class=\"dataframe\">\n",
       "  <thead>\n",
       "    <tr style=\"text-align: right;\">\n",
       "      <th></th>\n",
       "      <th>Unnamed: 0</th>\n",
       "      <th>title</th>\n",
       "      <th>text</th>\n",
       "      <th>label</th>\n",
       "    </tr>\n",
       "  </thead>\n",
       "  <tbody>\n",
       "    <tr>\n",
       "      <th>0</th>\n",
       "      <td>0</td>\n",
       "      <td>Palestinians switch off Christmas lights in Be...</td>\n",
       "      <td>RAMALLAH, West Bank (Reuters) - Palestinians s...</td>\n",
       "      <td>1</td>\n",
       "    </tr>\n",
       "    <tr>\n",
       "      <th>1</th>\n",
       "      <td>1</td>\n",
       "      <td>China says Trump call with Taiwan president wo...</td>\n",
       "      <td>BEIJING (Reuters) - U.S. President-elect Donal...</td>\n",
       "      <td>1</td>\n",
       "    </tr>\n",
       "    <tr>\n",
       "      <th>2</th>\n",
       "      <td>2</td>\n",
       "      <td>FAIL! The Trump Organization’s Credit Score W...</td>\n",
       "      <td>While the controversy over Trump s personal ta...</td>\n",
       "      <td>0</td>\n",
       "    </tr>\n",
       "    <tr>\n",
       "      <th>3</th>\n",
       "      <td>3</td>\n",
       "      <td>Zimbabwe military chief's China trip was norma...</td>\n",
       "      <td>BEIJING (Reuters) - A trip to Beijing last wee...</td>\n",
       "      <td>1</td>\n",
       "    </tr>\n",
       "    <tr>\n",
       "      <th>4</th>\n",
       "      <td>4</td>\n",
       "      <td>THE MOST UNCOURAGEOUS PRESIDENT EVER Receives ...</td>\n",
       "      <td>There has never been a more UNCOURAGEOUS perso...</td>\n",
       "      <td>0</td>\n",
       "    </tr>\n",
       "  </tbody>\n",
       "</table>\n",
       "</div>"
      ],
      "text/plain": [
       "   Unnamed: 0                                              title  \\\n",
       "0           0  Palestinians switch off Christmas lights in Be...   \n",
       "1           1  China says Trump call with Taiwan president wo...   \n",
       "2           2   FAIL! The Trump Organization’s Credit Score W...   \n",
       "3           3  Zimbabwe military chief's China trip was norma...   \n",
       "4           4  THE MOST UNCOURAGEOUS PRESIDENT EVER Receives ...   \n",
       "\n",
       "                                                text  label  \n",
       "0  RAMALLAH, West Bank (Reuters) - Palestinians s...      1  \n",
       "1  BEIJING (Reuters) - U.S. President-elect Donal...      1  \n",
       "2  While the controversy over Trump s personal ta...      0  \n",
       "3  BEIJING (Reuters) - A trip to Beijing last wee...      1  \n",
       "4  There has never been a more UNCOURAGEOUS perso...      0  "
      ]
     },
     "execution_count": 12,
     "metadata": {},
     "output_type": "execute_result"
    }
   ],
   "source": [
    "\n",
    "# Training data\n",
    "train_data = pd.read_csv(r\"Training-dataset.csv\",sep=\";\")\n",
    "train_data.head()"
   ]
  },
  {
   "cell_type": "markdown",
   "metadata": {},
   "source": [
    "#### B) EDA"
   ]
  },
  {
   "cell_type": "code",
   "execution_count": 13,
   "metadata": {
    "execution": {
     "iopub.execute_input": "2025-08-05T09:48:03.635357Z",
     "iopub.status.busy": "2025-08-05T09:48:03.635110Z",
     "iopub.status.idle": "2025-08-05T09:48:03.640054Z",
     "shell.execute_reply": "2025-08-05T09:48:03.639308Z",
     "shell.execute_reply.started": "2025-08-05T09:48:03.635337Z"
    },
    "trusted": true
   },
   "outputs": [
    {
     "data": {
      "text/plain": [
       "(24353, 4)"
      ]
     },
     "execution_count": 13,
     "metadata": {},
     "output_type": "execute_result"
    }
   ],
   "source": [
    "train_data.shape"
   ]
  },
  {
   "cell_type": "code",
   "execution_count": 14,
   "metadata": {
    "execution": {
     "iopub.execute_input": "2025-08-05T09:48:03.659316Z",
     "iopub.status.busy": "2025-08-05T09:48:03.659125Z",
     "iopub.status.idle": "2025-08-05T09:48:03.676493Z",
     "shell.execute_reply": "2025-08-05T09:48:03.675820Z",
     "shell.execute_reply.started": "2025-08-05T09:48:03.659300Z"
    },
    "trusted": true
   },
   "outputs": [],
   "source": [
    "df1 = train_data.copy()"
   ]
  },
  {
   "cell_type": "code",
   "execution_count": 15,
   "metadata": {
    "execution": {
     "iopub.execute_input": "2025-08-05T09:48:03.677627Z",
     "iopub.status.busy": "2025-08-05T09:48:03.677255Z",
     "iopub.status.idle": "2025-08-05T09:48:03.700820Z",
     "shell.execute_reply": "2025-08-05T09:48:03.700229Z",
     "shell.execute_reply.started": "2025-08-05T09:48:03.677606Z"
    },
    "trusted": true
   },
   "outputs": [
    {
     "data": {
      "text/plain": [
       "Unnamed: 0    0\n",
       "title         0\n",
       "text          0\n",
       "label         0\n",
       "dtype: int64"
      ]
     },
     "execution_count": 15,
     "metadata": {},
     "output_type": "execute_result"
    }
   ],
   "source": [
    "# Checking the NULL Values in Training data\n",
    "df1.isna().sum()"
   ]
  },
  {
   "cell_type": "markdown",
   "metadata": {},
   "source": [
    "## 2. Splitting in X,Y "
   ]
  },
  {
   "cell_type": "code",
   "execution_count": 16,
   "metadata": {
    "execution": {
     "iopub.execute_input": "2025-08-05T09:48:03.722429Z",
     "iopub.status.busy": "2025-08-05T09:48:03.721697Z",
     "iopub.status.idle": "2025-08-05T09:48:03.753732Z",
     "shell.execute_reply": "2025-08-05T09:48:03.753202Z",
     "shell.execute_reply.started": "2025-08-05T09:48:03.722406Z"
    },
    "trusted": true
   },
   "outputs": [],
   "source": [
    "# Data splitting\n",
    "x = df1.drop(['Unnamed: 0','label'],axis=1)\n",
    "y = df1['label']"
   ]
  },
  {
   "cell_type": "markdown",
   "metadata": {},
   "source": [
    "## 3. Data Prepration"
   ]
  },
  {
   "cell_type": "markdown",
   "metadata": {},
   "source": [
    "#### 3.1 Import of Tensorflow libraries"
   ]
  },
  {
   "cell_type": "code",
   "execution_count": 17,
   "metadata": {
    "execution": {
     "iopub.execute_input": "2025-08-05T09:48:03.756582Z",
     "iopub.status.busy": "2025-08-05T09:48:03.756190Z",
     "iopub.status.idle": "2025-08-05T09:48:03.857964Z",
     "shell.execute_reply": "2025-08-05T09:48:03.857277Z",
     "shell.execute_reply.started": "2025-08-05T09:48:03.756565Z"
    },
    "trusted": true
   },
   "outputs": [],
   "source": [
    "from tensorflow.keras.layers import Embedding,Dense,Dropout,LSTM\n",
    "from tensorflow.keras.models import Sequential\n",
    "from tensorflow.keras.preprocessing.sequence import pad_sequences\n",
    "from tensorflow.keras.preprocessing.text import one_hot"
   ]
  },
  {
   "cell_type": "code",
   "execution_count": 18,
   "metadata": {
    "execution": {
     "iopub.execute_input": "2025-08-05T09:48:03.858734Z",
     "iopub.status.busy": "2025-08-05T09:48:03.858551Z",
     "iopub.status.idle": "2025-08-05T09:48:03.862303Z",
     "shell.execute_reply": "2025-08-05T09:48:03.861403Z",
     "shell.execute_reply.started": "2025-08-05T09:48:03.858719Z"
    },
    "trusted": true
   },
   "outputs": [],
   "source": [
    "# Vocbulary size\n",
    "voc_size = 5000"
   ]
  },
  {
   "cell_type": "markdown",
   "metadata": {},
   "source": [
    "## 3.2 OneHot Representation"
   ]
  },
  {
   "cell_type": "code",
   "execution_count": 19,
   "metadata": {
    "execution": {
     "iopub.execute_input": "2025-08-05T09:48:03.863271Z",
     "iopub.status.busy": "2025-08-05T09:48:03.863065Z",
     "iopub.status.idle": "2025-08-05T09:48:03.884107Z",
     "shell.execute_reply": "2025-08-05T09:48:03.883595Z",
     "shell.execute_reply.started": "2025-08-05T09:48:03.863256Z"
    },
    "trusted": true
   },
   "outputs": [],
   "source": [
    "messages = x.copy()\n",
    "messages.reset_index(inplace=True)"
   ]
  },
  {
   "cell_type": "code",
   "execution_count": 21,
   "metadata": {},
   "outputs": [
    {
     "name": "stdout",
     "output_type": "stream",
     "text": [
      "Collecting nltk\n",
      "  Downloading nltk-3.9.1-py3-none-any.whl.metadata (2.9 kB)\n",
      "Collecting click (from nltk)\n",
      "  Downloading click-8.2.1-py3-none-any.whl.metadata (2.5 kB)\n",
      "Requirement already satisfied: joblib in c:\\users\\aman\\miniconda3\\lib\\site-packages (from nltk) (1.5.1)\n",
      "Collecting regex>=2021.8.3 (from nltk)\n",
      "  Downloading regex-2025.7.34-cp312-cp312-win_amd64.whl.metadata (41 kB)\n",
      "Requirement already satisfied: tqdm in c:\\users\\aman\\miniconda3\\lib\\site-packages (from nltk) (4.66.4)\n",
      "Requirement already satisfied: colorama in c:\\users\\aman\\miniconda3\\lib\\site-packages (from click->nltk) (0.4.6)\n",
      "Downloading nltk-3.9.1-py3-none-any.whl (1.5 MB)\n",
      "   ---------------------------------------- 0.0/1.5 MB ? eta -:--:--\n",
      "   ------------- -------------------------- 0.5/1.5 MB 4.2 MB/s eta 0:00:01\n",
      "   ---------------------------------- ----- 1.3/1.5 MB 4.5 MB/s eta 0:00:01\n",
      "   ---------------------------------------- 1.5/1.5 MB 3.6 MB/s eta 0:00:00\n",
      "Downloading regex-2025.7.34-cp312-cp312-win_amd64.whl (275 kB)\n",
      "Downloading click-8.2.1-py3-none-any.whl (102 kB)\n",
      "Installing collected packages: regex, click, nltk\n",
      "Successfully installed click-8.2.1 nltk-3.9.1 regex-2025.7.34\n"
     ]
    }
   ],
   "source": [
    "!pip install nltk"
   ]
  },
  {
   "cell_type": "code",
   "execution_count": 23,
   "metadata": {
    "execution": {
     "iopub.execute_input": "2025-08-05T09:48:03.885096Z",
     "iopub.status.busy": "2025-08-05T09:48:03.884790Z",
     "iopub.status.idle": "2025-08-05T09:48:04.849215Z",
     "shell.execute_reply": "2025-08-05T09:48:04.848400Z",
     "shell.execute_reply.started": "2025-08-05T09:48:03.885071Z"
    },
    "trusted": true
   },
   "outputs": [],
   "source": [
    "import nltk\n",
    "import re\n",
    "from nltk.corpus import stopwords"
   ]
  },
  {
   "cell_type": "code",
   "execution_count": 24,
   "metadata": {
    "execution": {
     "iopub.execute_input": "2025-08-05T09:48:04.850333Z",
     "iopub.status.busy": "2025-08-05T09:48:04.850100Z",
     "iopub.status.idle": "2025-08-05T09:48:04.951385Z",
     "shell.execute_reply": "2025-08-05T09:48:04.950782Z",
     "shell.execute_reply.started": "2025-08-05T09:48:04.850315Z"
    },
    "trusted": true
   },
   "outputs": [
    {
     "name": "stderr",
     "output_type": "stream",
     "text": [
      "[nltk_data] Downloading package stopwords to\n",
      "[nltk_data]     C:\\Users\\AMAN\\AppData\\Roaming\\nltk_data...\n",
      "[nltk_data]   Unzipping corpora\\stopwords.zip.\n"
     ]
    },
    {
     "data": {
      "text/plain": [
       "True"
      ]
     },
     "execution_count": 24,
     "metadata": {},
     "output_type": "execute_result"
    }
   ],
   "source": [
    "nltk.download(\"stopwords\")"
   ]
  },
  {
   "cell_type": "markdown",
   "metadata": {},
   "source": [
    "## **3.3 Preprocessing of Data**"
   ]
  },
  {
   "cell_type": "code",
   "execution_count": 25,
   "metadata": {
    "execution": {
     "iopub.execute_input": "2025-08-05T09:48:04.952412Z",
     "iopub.status.busy": "2025-08-05T09:48:04.952106Z",
     "iopub.status.idle": "2025-08-05T09:48:04.956338Z",
     "shell.execute_reply": "2025-08-05T09:48:04.955581Z",
     "shell.execute_reply.started": "2025-08-05T09:48:04.952394Z"
    },
    "trusted": true
   },
   "outputs": [],
   "source": [
    "'''It used for stemming text — a key step in Natural Language Processing (NLP),\n",
    "that helps simplify words by reducing them to their root/base form.'''\n",
    "from nltk.stem.porter import PorterStemmer\n"
   ]
  },
  {
   "cell_type": "code",
   "execution_count": 27,
   "metadata": {
    "execution": {
     "iopub.execute_input": "2025-08-05T09:48:04.957399Z",
     "iopub.status.busy": "2025-08-05T09:48:04.957139Z",
     "iopub.status.idle": "2025-08-05T09:48:33.269053Z",
     "shell.execute_reply": "2025-08-05T09:48:33.268417Z",
     "shell.execute_reply.started": "2025-08-05T09:48:04.957377Z"
    },
    "trusted": true
   },
   "outputs": [],
   "source": [
    "ps = PorterStemmer()\n",
    "corpus= []\n",
    "for i in range(0,len(messages)):\n",
    "    review = re.sub('[^a-zA-Z]',' ',messages['title'][i])\n",
    "    review = review.lower()\n",
    "    review = review.split()\n",
    "    review = [ps.stem(word) for word in review if not word in stopwords.words('english')]\n",
    "    review = ' '.join(review)\n",
    "    corpus.append(review)"
   ]
  },
  {
   "cell_type": "code",
   "execution_count": 28,
   "metadata": {
    "execution": {
     "iopub.execute_input": "2025-08-05T09:48:33.270298Z",
     "iopub.status.busy": "2025-08-05T09:48:33.270039Z",
     "iopub.status.idle": "2025-08-05T09:48:33.274379Z",
     "shell.execute_reply": "2025-08-05T09:48:33.273681Z",
     "shell.execute_reply.started": "2025-08-05T09:48:33.270272Z"
    },
    "trusted": true
   },
   "outputs": [
    {
     "name": "stdout",
     "output_type": "stream",
     "text": [
      "0 palestinian switch christma light bethlehem anti trump protest\n",
      "1 china say trump call taiwan presid chang island statu\n",
      "2 fail trump organ credit score make laugh\n",
      "3 zimbabw militari chief china trip normal visit beij say\n",
      "4 uncourag presid ever receiv courag award proce whine current presid\n",
      "5 suspect boko haram suicid bomber kill least nigeria offici\n",
      "6 watch john oliv present gop debat clowntown f ck world sh tshow\n",
      "7 senat democrat ask trump attorney gener pick recus russia probe\n",
      "8 trump humili republican latest hissi fit side democrat debt ceil\n",
      "9 maci get boot loyal custom fire trump\n"
     ]
    }
   ],
   "source": [
    "# Check corpus\n",
    "for i in range(0,10):\n",
    "    print(i,corpus[i])"
   ]
  },
  {
   "cell_type": "code",
   "execution_count": 31,
   "metadata": {
    "execution": {
     "iopub.execute_input": "2025-08-05T09:48:33.275400Z",
     "iopub.status.busy": "2025-08-05T09:48:33.275143Z",
     "iopub.status.idle": "2025-08-05T09:48:33.501677Z",
     "shell.execute_reply": "2025-08-05T09:48:33.500973Z",
     "shell.execute_reply.started": "2025-08-05T09:48:33.275377Z"
    },
    "trusted": true
   },
   "outputs": [
    {
     "data": {
      "text/plain": [
       "[[3091, 1565, 1538, 2136, 1449, 2971, 3160, 2045],\n",
       " [521, 3275, 3160, 1902, 4478, 1076, 2698, 3969, 2748],\n",
       " [2718, 3160, 4244, 7, 267, 4011, 2137],\n",
       " [3804, 1794, 3902, 521, 784, 1994, 2410, 4187, 3275],\n",
       " [4047, 1076, 3516, 2529, 4214, 1059, 4405, 3257, 204, 1076]]"
      ]
     },
     "execution_count": 31,
     "metadata": {},
     "output_type": "execute_result"
    }
   ],
   "source": [
    "# Onehot Representation of these corpus words\n",
    "onehot_rep = [one_hot(words,voc_size) for words in corpus]\n",
    "onehot_rep[0:5]"
   ]
  },
  {
   "cell_type": "markdown",
   "metadata": {},
   "source": [
    "## 3.3 Embedding Representation"
   ]
  },
  {
   "cell_type": "code",
   "execution_count": 32,
   "metadata": {
    "execution": {
     "iopub.execute_input": "2025-08-05T09:48:33.502746Z",
     "iopub.status.busy": "2025-08-05T09:48:33.502444Z",
     "iopub.status.idle": "2025-08-05T09:48:33.557386Z",
     "shell.execute_reply": "2025-08-05T09:48:33.556785Z",
     "shell.execute_reply.started": "2025-08-05T09:48:33.502727Z"
    },
    "trusted": true
   },
   "outputs": [
    {
     "name": "stdout",
     "output_type": "stream",
     "text": [
      "[[   0    0    0 ... 2971 3160 2045]\n",
      " [   0    0    0 ... 2698 3969 2748]\n",
      " [   0    0    0 ...  267 4011 2137]\n",
      " ...\n",
      " [   0    0    0 ... 1973 3160  261]\n",
      " [   0    0    0 ... 4868 2073 4728]\n",
      " [   0    0    0 ... 2851 2685 2147]]\n"
     ]
    }
   ],
   "source": [
    "col_length = 100\n",
    "embedded_rep = pad_sequences(onehot_rep,padding='pre',maxlen=col_length)\n",
    "print(embedded_rep)"
   ]
  },
  {
   "cell_type": "code",
   "execution_count": 33,
   "metadata": {
    "execution": {
     "iopub.execute_input": "2025-08-05T09:48:33.558341Z",
     "iopub.status.busy": "2025-08-05T09:48:33.558098Z",
     "iopub.status.idle": "2025-08-05T09:48:33.563238Z",
     "shell.execute_reply": "2025-08-05T09:48:33.562419Z",
     "shell.execute_reply.started": "2025-08-05T09:48:33.558311Z"
    },
    "trusted": true
   },
   "outputs": [
    {
     "data": {
      "text/plain": [
       "24353"
      ]
     },
     "execution_count": 33,
     "metadata": {},
     "output_type": "execute_result"
    }
   ],
   "source": [
    "len(embedded_rep)"
   ]
  },
  {
   "cell_type": "markdown",
   "metadata": {},
   "source": [
    "## 4. MODEL Creation"
   ]
  },
  {
   "cell_type": "code",
   "execution_count": 34,
   "metadata": {
    "execution": {
     "iopub.execute_input": "2025-08-05T09:48:33.564307Z",
     "iopub.status.busy": "2025-08-05T09:48:33.564097Z",
     "iopub.status.idle": "2025-08-05T09:48:33.584532Z",
     "shell.execute_reply": "2025-08-05T09:48:33.583977Z",
     "shell.execute_reply.started": "2025-08-05T09:48:33.564287Z"
    },
    "trusted": true
   },
   "outputs": [],
   "source": [
    "from tensorflow.keras import regularizers\n",
    "from tensorflow.keras.layers import BatchNormalization\n",
    "from tensorflow.keras.callbacks import EarlyStopping"
   ]
  },
  {
   "cell_type": "code",
   "execution_count": 35,
   "metadata": {
    "execution": {
     "iopub.execute_input": "2025-08-05T09:48:33.585387Z",
     "iopub.status.busy": "2025-08-05T09:48:33.585157Z",
     "iopub.status.idle": "2025-08-05T09:48:37.335048Z",
     "shell.execute_reply": "2025-08-05T09:48:37.334482Z",
     "shell.execute_reply.started": "2025-08-05T09:48:33.585371Z"
    },
    "trusted": true
   },
   "outputs": [
    {
     "data": {
      "text/html": [
       "<pre style=\"white-space:pre;overflow-x:auto;line-height:normal;font-family:Menlo,'DejaVu Sans Mono',consolas,'Courier New',monospace\"><span style=\"font-weight: bold\">Model: \"sequential\"</span>\n",
       "</pre>\n"
      ],
      "text/plain": [
       "\u001b[1mModel: \"sequential\"\u001b[0m\n"
      ]
     },
     "metadata": {},
     "output_type": "display_data"
    },
    {
     "data": {
      "text/html": [
       "<pre style=\"white-space:pre;overflow-x:auto;line-height:normal;font-family:Menlo,'DejaVu Sans Mono',consolas,'Courier New',monospace\">┏━━━━━━━━━━━━━━━━━━━━━━━━━━━━━━━━━┳━━━━━━━━━━━━━━━━━━━━━━━━┳━━━━━━━━━━━━━━━┓\n",
       "┃<span style=\"font-weight: bold\"> Layer (type)                    </span>┃<span style=\"font-weight: bold\"> Output Shape           </span>┃<span style=\"font-weight: bold\">       Param # </span>┃\n",
       "┡━━━━━━━━━━━━━━━━━━━━━━━━━━━━━━━━━╇━━━━━━━━━━━━━━━━━━━━━━━━╇━━━━━━━━━━━━━━━┩\n",
       "│ embedding (<span style=\"color: #0087ff; text-decoration-color: #0087ff\">Embedding</span>)           │ (<span style=\"color: #00d7ff; text-decoration-color: #00d7ff\">None</span>, <span style=\"color: #00af00; text-decoration-color: #00af00\">100</span>, <span style=\"color: #00af00; text-decoration-color: #00af00\">40</span>)        │       <span style=\"color: #00af00; text-decoration-color: #00af00\">200,000</span> │\n",
       "├─────────────────────────────────┼────────────────────────┼───────────────┤\n",
       "│ batch_normalization             │ (<span style=\"color: #00d7ff; text-decoration-color: #00d7ff\">None</span>, <span style=\"color: #00af00; text-decoration-color: #00af00\">100</span>, <span style=\"color: #00af00; text-decoration-color: #00af00\">40</span>)        │           <span style=\"color: #00af00; text-decoration-color: #00af00\">160</span> │\n",
       "│ (<span style=\"color: #0087ff; text-decoration-color: #0087ff\">BatchNormalization</span>)            │                        │               │\n",
       "├─────────────────────────────────┼────────────────────────┼───────────────┤\n",
       "│ lstm (<span style=\"color: #0087ff; text-decoration-color: #0087ff\">LSTM</span>)                     │ (<span style=\"color: #00d7ff; text-decoration-color: #00d7ff\">None</span>, <span style=\"color: #00af00; text-decoration-color: #00af00\">32</span>)             │         <span style=\"color: #00af00; text-decoration-color: #00af00\">9,344</span> │\n",
       "├─────────────────────────────────┼────────────────────────┼───────────────┤\n",
       "│ batch_normalization_1           │ (<span style=\"color: #00d7ff; text-decoration-color: #00d7ff\">None</span>, <span style=\"color: #00af00; text-decoration-color: #00af00\">32</span>)             │           <span style=\"color: #00af00; text-decoration-color: #00af00\">128</span> │\n",
       "│ (<span style=\"color: #0087ff; text-decoration-color: #0087ff\">BatchNormalization</span>)            │                        │               │\n",
       "├─────────────────────────────────┼────────────────────────┼───────────────┤\n",
       "│ dropout (<span style=\"color: #0087ff; text-decoration-color: #0087ff\">Dropout</span>)               │ (<span style=\"color: #00d7ff; text-decoration-color: #00d7ff\">None</span>, <span style=\"color: #00af00; text-decoration-color: #00af00\">32</span>)             │             <span style=\"color: #00af00; text-decoration-color: #00af00\">0</span> │\n",
       "├─────────────────────────────────┼────────────────────────┼───────────────┤\n",
       "│ dense (<span style=\"color: #0087ff; text-decoration-color: #0087ff\">Dense</span>)                   │ (<span style=\"color: #00d7ff; text-decoration-color: #00d7ff\">None</span>, <span style=\"color: #00af00; text-decoration-color: #00af00\">1</span>)              │            <span style=\"color: #00af00; text-decoration-color: #00af00\">33</span> │\n",
       "└─────────────────────────────────┴────────────────────────┴───────────────┘\n",
       "</pre>\n"
      ],
      "text/plain": [
       "┏━━━━━━━━━━━━━━━━━━━━━━━━━━━━━━━━━┳━━━━━━━━━━━━━━━━━━━━━━━━┳━━━━━━━━━━━━━━━┓\n",
       "┃\u001b[1m \u001b[0m\u001b[1mLayer (type)                   \u001b[0m\u001b[1m \u001b[0m┃\u001b[1m \u001b[0m\u001b[1mOutput Shape          \u001b[0m\u001b[1m \u001b[0m┃\u001b[1m \u001b[0m\u001b[1m      Param #\u001b[0m\u001b[1m \u001b[0m┃\n",
       "┡━━━━━━━━━━━━━━━━━━━━━━━━━━━━━━━━━╇━━━━━━━━━━━━━━━━━━━━━━━━╇━━━━━━━━━━━━━━━┩\n",
       "│ embedding (\u001b[38;5;33mEmbedding\u001b[0m)           │ (\u001b[38;5;45mNone\u001b[0m, \u001b[38;5;34m100\u001b[0m, \u001b[38;5;34m40\u001b[0m)        │       \u001b[38;5;34m200,000\u001b[0m │\n",
       "├─────────────────────────────────┼────────────────────────┼───────────────┤\n",
       "│ batch_normalization             │ (\u001b[38;5;45mNone\u001b[0m, \u001b[38;5;34m100\u001b[0m, \u001b[38;5;34m40\u001b[0m)        │           \u001b[38;5;34m160\u001b[0m │\n",
       "│ (\u001b[38;5;33mBatchNormalization\u001b[0m)            │                        │               │\n",
       "├─────────────────────────────────┼────────────────────────┼───────────────┤\n",
       "│ lstm (\u001b[38;5;33mLSTM\u001b[0m)                     │ (\u001b[38;5;45mNone\u001b[0m, \u001b[38;5;34m32\u001b[0m)             │         \u001b[38;5;34m9,344\u001b[0m │\n",
       "├─────────────────────────────────┼────────────────────────┼───────────────┤\n",
       "│ batch_normalization_1           │ (\u001b[38;5;45mNone\u001b[0m, \u001b[38;5;34m32\u001b[0m)             │           \u001b[38;5;34m128\u001b[0m │\n",
       "│ (\u001b[38;5;33mBatchNormalization\u001b[0m)            │                        │               │\n",
       "├─────────────────────────────────┼────────────────────────┼───────────────┤\n",
       "│ dropout (\u001b[38;5;33mDropout\u001b[0m)               │ (\u001b[38;5;45mNone\u001b[0m, \u001b[38;5;34m32\u001b[0m)             │             \u001b[38;5;34m0\u001b[0m │\n",
       "├─────────────────────────────────┼────────────────────────┼───────────────┤\n",
       "│ dense (\u001b[38;5;33mDense\u001b[0m)                   │ (\u001b[38;5;45mNone\u001b[0m, \u001b[38;5;34m1\u001b[0m)              │            \u001b[38;5;34m33\u001b[0m │\n",
       "└─────────────────────────────────┴────────────────────────┴───────────────┘\n"
      ]
     },
     "metadata": {},
     "output_type": "display_data"
    },
    {
     "data": {
      "text/html": [
       "<pre style=\"white-space:pre;overflow-x:auto;line-height:normal;font-family:Menlo,'DejaVu Sans Mono',consolas,'Courier New',monospace\"><span style=\"font-weight: bold\"> Total params: </span><span style=\"color: #00af00; text-decoration-color: #00af00\">209,665</span> (819.00 KB)\n",
       "</pre>\n"
      ],
      "text/plain": [
       "\u001b[1m Total params: \u001b[0m\u001b[38;5;34m209,665\u001b[0m (819.00 KB)\n"
      ]
     },
     "metadata": {},
     "output_type": "display_data"
    },
    {
     "data": {
      "text/html": [
       "<pre style=\"white-space:pre;overflow-x:auto;line-height:normal;font-family:Menlo,'DejaVu Sans Mono',consolas,'Courier New',monospace\"><span style=\"font-weight: bold\"> Trainable params: </span><span style=\"color: #00af00; text-decoration-color: #00af00\">209,521</span> (818.44 KB)\n",
       "</pre>\n"
      ],
      "text/plain": [
       "\u001b[1m Trainable params: \u001b[0m\u001b[38;5;34m209,521\u001b[0m (818.44 KB)\n"
      ]
     },
     "metadata": {},
     "output_type": "display_data"
    },
    {
     "data": {
      "text/html": [
       "<pre style=\"white-space:pre;overflow-x:auto;line-height:normal;font-family:Menlo,'DejaVu Sans Mono',consolas,'Courier New',monospace\"><span style=\"font-weight: bold\"> Non-trainable params: </span><span style=\"color: #00af00; text-decoration-color: #00af00\">144</span> (576.00 B)\n",
       "</pre>\n"
      ],
      "text/plain": [
       "\u001b[1m Non-trainable params: \u001b[0m\u001b[38;5;34m144\u001b[0m (576.00 B)\n"
      ]
     },
     "metadata": {},
     "output_type": "display_data"
    }
   ],
   "source": [
    "embedding_features = 40\n",
    "model = Sequential()\n",
    "model.add(Embedding(input_dim=voc_size, output_dim=embedding_features))  \n",
    "model.add(BatchNormalization())\n",
    "model.add(LSTM(32,dropout=0.5,recurrent_dropout=0.2))\n",
    "model.add(BatchNormalization())\n",
    "model.add(Dropout(0.5))\n",
    "model.add(Dense(1, activation='sigmoid',kernel_regularizer=regularizers.l2(0.01)))\n",
    "\n",
    "model.build(input_shape=(None, col_length))  # ✅ build manually for summary\n",
    "model.compile(loss='binary_crossentropy', optimizer='adam', metrics=['accuracy'])\n",
    "\n",
    "model.summary()"
   ]
  },
  {
   "cell_type": "code",
   "execution_count": 36,
   "metadata": {
    "execution": {
     "iopub.execute_input": "2025-08-05T09:48:37.335985Z",
     "iopub.status.busy": "2025-08-05T09:48:37.335760Z",
     "iopub.status.idle": "2025-08-05T09:48:37.343487Z",
     "shell.execute_reply": "2025-08-05T09:48:37.342733Z",
     "shell.execute_reply.started": "2025-08-05T09:48:37.335963Z"
    },
    "trusted": true
   },
   "outputs": [],
   "source": [
    "x_final = np.array(embedded_rep)\n",
    "y_final =np.array(y)"
   ]
  },
  {
   "cell_type": "code",
   "execution_count": 37,
   "metadata": {
    "execution": {
     "iopub.execute_input": "2025-08-05T09:48:37.344406Z",
     "iopub.status.busy": "2025-08-05T09:48:37.344169Z",
     "iopub.status.idle": "2025-08-05T09:48:37.351228Z",
     "shell.execute_reply": "2025-08-05T09:48:37.350580Z",
     "shell.execute_reply.started": "2025-08-05T09:48:37.344385Z"
    },
    "trusted": true
   },
   "outputs": [
    {
     "data": {
      "text/plain": [
       "((24353, 100), (24353,))"
      ]
     },
     "execution_count": 37,
     "metadata": {},
     "output_type": "execute_result"
    }
   ],
   "source": [
    "x_final.shape,y_final.shape"
   ]
  },
  {
   "cell_type": "code",
   "execution_count": 38,
   "metadata": {
    "execution": {
     "iopub.execute_input": "2025-08-05T09:48:37.352051Z",
     "iopub.status.busy": "2025-08-05T09:48:37.351857Z",
     "iopub.status.idle": "2025-08-05T09:48:37.378616Z",
     "shell.execute_reply": "2025-08-05T09:48:37.377855Z",
     "shell.execute_reply.started": "2025-08-05T09:48:37.352035Z"
    },
    "trusted": true
   },
   "outputs": [],
   "source": [
    "x_train,x_test,y_train,y_test = train_test_split(x_final,y_final,test_size=0.3,random_state=42)"
   ]
  },
  {
   "cell_type": "code",
   "execution_count": 39,
   "metadata": {
    "execution": {
     "iopub.execute_input": "2025-08-05T10:03:21.009192Z",
     "iopub.status.busy": "2025-08-05T10:03:21.008769Z",
     "iopub.status.idle": "2025-08-05T10:13:48.148835Z",
     "shell.execute_reply": "2025-08-05T10:13:48.148234Z",
     "shell.execute_reply.started": "2025-08-05T10:03:21.009162Z"
    },
    "trusted": true
   },
   "outputs": [
    {
     "name": "stdout",
     "output_type": "stream",
     "text": [
      "Epoch 1/10\n",
      "\u001b[1m533/533\u001b[0m \u001b[32m━━━━━━━━━━━━━━━━━━━━\u001b[0m\u001b[37m\u001b[0m \u001b[1m60s\u001b[0m 89ms/step - accuracy: 0.6329 - loss: 0.6904 - val_accuracy: 0.8883 - val_loss: 0.2708\n",
      "Epoch 2/10\n",
      "\u001b[1m533/533\u001b[0m \u001b[32m━━━━━━━━━━━━━━━━━━━━\u001b[0m\u001b[37m\u001b[0m \u001b[1m53s\u001b[0m 99ms/step - accuracy: 0.8987 - loss: 0.2723 - val_accuracy: 0.9054 - val_loss: 0.2421\n",
      "Epoch 3/10\n",
      "\u001b[1m533/533\u001b[0m \u001b[32m━━━━━━━━━━━━━━━━━━━━\u001b[0m\u001b[37m\u001b[0m \u001b[1m47s\u001b[0m 87ms/step - accuracy: 0.9262 - loss: 0.2081 - val_accuracy: 0.9084 - val_loss: 0.2484\n",
      "Epoch 4/10\n",
      "\u001b[1m533/533\u001b[0m \u001b[32m━━━━━━━━━━━━━━━━━━━━\u001b[0m\u001b[37m\u001b[0m \u001b[1m49s\u001b[0m 92ms/step - accuracy: 0.9407 - loss: 0.1739 - val_accuracy: 0.9102 - val_loss: 0.2637\n",
      "Epoch 5/10\n",
      "\u001b[1m533/533\u001b[0m \u001b[32m━━━━━━━━━━━━━━━━━━━━\u001b[0m\u001b[37m\u001b[0m \u001b[1m46s\u001b[0m 86ms/step - accuracy: 0.9456 - loss: 0.1582 - val_accuracy: 0.9049 - val_loss: 0.2884\n"
     ]
    },
    {
     "data": {
      "text/plain": [
       "<keras.src.callbacks.history.History at 0x2044edfec00>"
      ]
     },
     "execution_count": 39,
     "metadata": {},
     "output_type": "execute_result"
    }
   ],
   "source": [
    "# Final Training of MODEL\n",
    "early_stop = EarlyStopping(monitor='val_loss', patience=3, restore_best_weights=True)\n",
    "model.fit(x_train,y_train,epochs=10,validation_data=(x_test,y_test),callbacks=[early_stop])"
   ]
  },
  {
   "cell_type": "code",
   "execution_count": 40,
   "metadata": {
    "execution": {
     "iopub.execute_input": "2025-08-05T10:16:19.850394Z",
     "iopub.status.busy": "2025-08-05T10:16:19.850068Z",
     "iopub.status.idle": "2025-08-05T10:16:32.649585Z",
     "shell.execute_reply": "2025-08-05T10:16:32.649012Z",
     "shell.execute_reply.started": "2025-08-05T10:16:19.850374Z"
    },
    "trusted": true
   },
   "outputs": [
    {
     "name": "stdout",
     "output_type": "stream",
     "text": [
      "\u001b[1m229/229\u001b[0m \u001b[32m━━━━━━━━━━━━━━━━━━━━\u001b[0m\u001b[37m\u001b[0m \u001b[1m5s\u001b[0m 21ms/step - accuracy: 0.9093 - loss: 0.2404\n",
      "Test Accuracy: 0.9054, Loss: 0.2421\n"
     ]
    }
   ],
   "source": [
    "loss, accuracy = model.evaluate(x_test, y_test)\n",
    "print(f\"Test Accuracy: {accuracy:.4f}, Loss: {loss:.4f}\")\n"
   ]
  },
  {
   "cell_type": "code",
   "execution_count": 41,
   "metadata": {
    "trusted": true
   },
   "outputs": [
    {
     "name": "stdout",
     "output_type": "stream",
     "text": [
      "\u001b[1m229/229\u001b[0m \u001b[32m━━━━━━━━━━━━━━━━━━━━\u001b[0m\u001b[37m\u001b[0m \u001b[1m6s\u001b[0m 21ms/step\n",
      "[[2924  358]\n",
      " [ 333 3691]]\n",
      "              precision    recall  f1-score   support\n",
      "\n",
      "           0       0.90      0.89      0.89      3282\n",
      "           1       0.91      0.92      0.91      4024\n",
      "\n",
      "    accuracy                           0.91      7306\n",
      "   macro avg       0.90      0.90      0.90      7306\n",
      "weighted avg       0.91      0.91      0.91      7306\n",
      "\n"
     ]
    }
   ],
   "source": [
    "from sklearn.metrics import classification_report, confusion_matrix\n",
    "import numpy as np\n",
    "\n",
    "y_pred = model.predict(x_test)\n",
    "y_pred = (y_pred > 0.5).astype(int)\n",
    "\n",
    "print(confusion_matrix(y_test, y_pred))\n",
    "print(classification_report(y_test, y_pred))"
   ]
  },
  {
   "cell_type": "code",
   "execution_count": null,
   "metadata": {},
   "outputs": [],
   "source": []
  }
 ],
 "metadata": {
  "kaggle": {
   "accelerator": "nvidiaTeslaT4",
   "dataSources": [
    {
     "datasetId": 5926278,
     "sourceId": 9693156,
     "sourceType": "datasetVersion"
    }
   ],
   "dockerImageVersionId": 31090,
   "isGpuEnabled": true,
   "isInternetEnabled": true,
   "language": "python",
   "sourceType": "notebook"
  },
  "kernelspec": {
   "display_name": "base",
   "language": "python",
   "name": "python3"
  },
  "language_info": {
   "codemirror_mode": {
    "name": "ipython",
    "version": 3
   },
   "file_extension": ".py",
   "mimetype": "text/x-python",
   "name": "python",
   "nbconvert_exporter": "python",
   "pygments_lexer": "ipython3",
   "version": "3.12.4"
  }
 },
 "nbformat": 4,
 "nbformat_minor": 4
}
